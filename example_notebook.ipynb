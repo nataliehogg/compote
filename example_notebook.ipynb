{
 "cells": [
  {
   "cell_type": "markdown",
   "id": "ea87c258",
   "metadata": {},
   "source": [
    "# compote (Coefficients Of Multipoles of lensing POTEntials)\n",
    "\n",
    "Author: Natalie B. Hogg"
   ]
  },
  {
   "cell_type": "markdown",
   "id": "ce07f7ab",
   "metadata": {},
   "source": [
    "First import the potential from `compote` whose multipoles you wish to compute:"
   ]
  },
  {
   "cell_type": "code",
   "execution_count": 1,
   "id": "e78803b0",
   "metadata": {},
   "outputs": [],
   "source": [
    "from compote.potentials.epl import EPL"
   ]
  },
  {
   "cell_type": "markdown",
   "id": "e3558630",
   "metadata": {},
   "source": [
    "Then give your potential some values for its parameters:"
   ]
  },
  {
   "cell_type": "code",
   "execution_count": 10,
   "id": "e4b92261",
   "metadata": {},
   "outputs": [],
   "source": [
    "phi = 0.8\n",
    "theta = 1\n",
    "f = 7/8\n",
    "theta_E = 1\n",
    "gamma = 2\n",
    "\n",
    "epl = EPL(phi, theta, f, theta_E, gamma)"
   ]
  },
  {
   "cell_type": "markdown",
   "id": "3f7d66b3",
   "metadata": {},
   "source": [
    "Now import and initialise the Calculate class:"
   ]
  },
  {
   "cell_type": "code",
   "execution_count": 11,
   "id": "25b02664",
   "metadata": {},
   "outputs": [],
   "source": [
    "from compote.calculate.calculate import Calculate\n",
    "c = Calculate()"
   ]
  },
  {
   "cell_type": "markdown",
   "id": "c350a6c3",
   "metadata": {},
   "source": [
    "Next you can calculate the multipole coefficients of your chosen potential:"
   ]
  },
  {
   "cell_type": "code",
   "execution_count": 12,
   "id": "0d6c5022",
   "metadata": {},
   "outputs": [
    {
     "name": "stderr",
     "output_type": "stream",
     "text": [
      "/home/nataliehogg/anaconda3/lib/python3.11/site-packages/scipy/integrate/_quadpack_py.py:577: ComplexWarning: Casting complex values to real discards the imaginary part\n",
      "  return _quadpack._qagse(func,a,b,args,full_output,epsabs,epsrel,limit)\n"
     ]
    }
   ],
   "source": [
    "orders = range(0, 12)\n",
    "\n",
    "c_epl, error_epl = c.coefficients(epl.potential, orders, theta, f, theta_E, gamma)"
   ]
  },
  {
   "cell_type": "markdown",
   "id": "633b41ec",
   "metadata": {},
   "source": [
    "You can display the results as a dataframe or LaTeX table for easy reading:"
   ]
  },
  {
   "cell_type": "code",
   "execution_count": 13,
   "id": "0d0464a7",
   "metadata": {},
   "outputs": [],
   "source": [
    "dataframe = c.results_dataframe(c_epl, error_epl, orders)\n",
    "\n",
    "latex = c.results_dataframe(c_epl, error_epl, orders, to_latex=True)"
   ]
  },
  {
   "cell_type": "code",
   "execution_count": 14,
   "id": "3fec4c64",
   "metadata": {},
   "outputs": [
    {
     "name": "stdout",
     "output_type": "stream",
     "text": [
      "             c_n         error\n",
      "0   1.068291e+00  1.186041e-14\n",
      "1   5.551115e-17  7.603017e-15\n",
      "2  -7.632783e-17  7.841086e-10\n",
      "3  -1.394522e-17  7.404384e-15\n",
      "4  -5.204170e-17  7.841086e-10\n",
      "5  -1.761011e-16  7.350615e-15\n",
      "6  -1.440554e-17  7.418106e-15\n",
      "7  -2.282224e-16  6.785183e-15\n",
      "8  -9.367507e-17  7.841086e-10\n",
      "9   1.404328e-16  7.209257e-15\n",
      "10 -3.439256e-16  7.350615e-15\n",
      "11 -3.253104e-16  7.633331e-15\n"
     ]
    }
   ],
   "source": [
    "print(dataframe)"
   ]
  },
  {
   "cell_type": "code",
   "execution_count": 7,
   "id": "763f50e7",
   "metadata": {},
   "outputs": [
    {
     "name": "stdout",
     "output_type": "stream",
     "text": [
      "\\begin{tabular}{lrr}\n",
      "\\toprule\n",
      " & c_n & error \\\\\n",
      "\\midrule\n",
      "0 & 1.026048 & 0.000000 \\\\\n",
      "1 & 0.000000 & 0.000000 \\\\\n",
      "2 & -0.000000 & 0.000000 \\\\\n",
      "3 & -0.000000 & 0.000000 \\\\\n",
      "4 & -0.000000 & 0.000000 \\\\\n",
      "5 & -0.000000 & 0.000000 \\\\\n",
      "6 & -0.000000 & 0.000000 \\\\\n",
      "7 & -0.000000 & 0.000000 \\\\\n",
      "8 & -0.000000 & 0.000000 \\\\\n",
      "9 & 0.000000 & 0.000000 \\\\\n",
      "10 & -0.000000 & 0.000000 \\\\\n",
      "11 & -0.000000 & 0.000000 \\\\\n",
      "\\bottomrule\n",
      "\\end{tabular}\n",
      "\n"
     ]
    }
   ],
   "source": [
    "print(latex)"
   ]
  },
  {
   "cell_type": "markdown",
   "id": "1aa32a52",
   "metadata": {},
   "source": [
    "And lastly, with the Plot class you can plot your result:"
   ]
  },
  {
   "cell_type": "code",
   "execution_count": 8,
   "id": "12446db2",
   "metadata": {},
   "outputs": [],
   "source": [
    "from compote.plots.plots import Plot\n",
    "\n",
    "p = Plot()"
   ]
  },
  {
   "cell_type": "code",
   "execution_count": 9,
   "id": "2ee85618",
   "metadata": {},
   "outputs": [
    {
     "data": {
      "image/png": "[encoded data removed]",
      "text/plain": [
       "<Figure size 700x500 with 1 Axes>"
      ]
     },
     "metadata": {},
     "output_type": "display_data"
    }
   ],
   "source": [
    "plot_kwargs = {'color': 'maroon', 'ls': ' ', 'marker': 'x', 'label': 'EPL'}\n",
    "\n",
    "p.coefficient_plot(c_epl, orders, plot_kwargs,  title='my amazing compote plot')"
   ]
  }
 ],
 "metadata": {
  "kernelspec": {
   "display_name": "Python 3 (ipykernel)",
   "language": "python",
   "name": "python3"
  },
  "language_info": {
   "codemirror_mode": {
    "name": "ipython",
    "version": 3
   },
   "file_extension": ".py",
   "mimetype": "text/x-python",
   "name": "python",
   "nbconvert_exporter": "python",
   "pygments_lexer": "ipython3",
   "version": "3.11.5"
  }
 },
 "nbformat": 4,
 "nbformat_minor": 5
}
