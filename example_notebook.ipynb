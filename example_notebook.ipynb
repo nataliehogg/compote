{
 "cells": [
  {
   "cell_type": "markdown",
   "id": "ea87c258",
   "metadata": {},
   "source": [
    "# 🍓 `compote` (Coefficients Of Multipoles of lensing POTEntials)\n",
    "\n",
    "Author: Natalie B. Hogg\n",
    "\n",
    "The `compote` package computes coefficients of the multipole expansion of a given lensing potential. This notebook demonstrates its use."
   ]
  },
  {
   "cell_type": "markdown",
   "id": "ce07f7ab",
   "metadata": {},
   "source": [
    "First import the potential from `compote` whose multipoles you wish to compute:"
   ]
  },
  {
   "cell_type": "code",
   "execution_count": 1,
   "id": "e78803b0",
   "metadata": {},
   "outputs": [],
   "source": [
    "from compote.potentials.epl import EPL"
   ]
  },
  {
   "cell_type": "markdown",
   "id": "72b10599",
   "metadata": {},
   "source": [
    "Before getting the multipole coefficients, you can calculate the value of the potential for a given value of $\\varphi$:"
   ]
  },
  {
   "cell_type": "code",
   "execution_count": 2,
   "id": "edbf8f06",
   "metadata": {},
   "outputs": [
    {
     "name": "stdout",
     "output_type": "stream",
     "text": [
      "(1.0949625687195794+0j)\n"
     ]
    }
   ],
   "source": [
    "epl_fixed_phi = EPL()\n",
    "\n",
    "phi = 0.5\n",
    "theta = 1\n",
    "f = 7/8\n",
    "theta_E = 1\n",
    "gamma = 2\n",
    "\n",
    "potential = epl_fixed_phi.potential(phi, theta, f, theta_E, gamma)\n",
    "\n",
    "print(potential)"
   ]
  },
  {
   "cell_type": "markdown",
   "id": "3f7d66b3",
   "metadata": {},
   "source": [
    "Now import and initialise the Calculate class:"
   ]
  },
  {
   "cell_type": "code",
   "execution_count": 3,
   "id": "25b02664",
   "metadata": {},
   "outputs": [],
   "source": [
    "from compote.calculate.calculate import Calculate\n",
    "\n",
    "calc = Calculate()"
   ]
  },
  {
   "cell_type": "markdown",
   "id": "c350a6c3",
   "metadata": {},
   "source": [
    "Next you can calculate the multipole coefficients of your chosen potential with some given parameter values:"
   ]
  },
  {
   "cell_type": "code",
   "execution_count": 4,
   "id": "0d6c5022",
   "metadata": {},
   "outputs": [],
   "source": [
    "epl = EPL() # new instance of EPL"
   ]
  },
  {
   "cell_type": "code",
   "execution_count": 5,
   "id": "c95fa478",
   "metadata": {},
   "outputs": [],
   "source": [
    "theta = 1   # radial coordinate; result is independent of this\n",
    "f = 7/8     # axis ratio of ellipse\n",
    "theta_E = 1 # Einstein radius; result is independent of this\n",
    "gamma = 2   # slope of the power law"
   ]
  },
  {
   "cell_type": "code",
   "execution_count": 6,
   "id": "88975bcf",
   "metadata": {},
   "outputs": [
    {
     "name": "stderr",
     "output_type": "stream",
     "text": [
      "/home/nataliehogg/anaconda3/lib/python3.11/site-packages/scipy/integrate/_quadpack_py.py:577: ComplexWarning: Casting complex values to real discards the imaginary part\n",
      "  return _quadpack._qagse(func,a,b,args,full_output,epsabs,epsrel,limit)\n"
     ]
    }
   ],
   "source": [
    "orders = range(0, 12) # number of orders to compute\n",
    "\n",
    "c_epl, error_epl = calc.coefficients(epl.potential, orders, theta, f, theta_E, gamma)"
   ]
  },
  {
   "cell_type": "markdown",
   "id": "633b41ec",
   "metadata": {},
   "source": [
    "You can display the results as a dataframe..."
   ]
  },
  {
   "cell_type": "code",
   "execution_count": 7,
   "id": "0d0464a7",
   "metadata": {},
   "outputs": [
    {
     "name": "stdout",
     "output_type": "stream",
     "text": [
      "             c_n         error\n",
      "0   1.069045e+00  1.191814e-09\n",
      "1  -5.495032e-17  7.634945e-15\n",
      "2   2.375655e-02  7.519606e-15\n",
      "3  -1.232436e-17  7.412459e-15\n",
      "4  -3.167541e-04  7.617234e-15\n",
      "5  -1.927885e-16  7.350615e-15\n",
      "6   9.050116e-06  7.526826e-13\n",
      "7  -2.348362e-16  6.785183e-15\n",
      "8  -3.351895e-07  1.408501e-09\n",
      "9   1.517459e-16  7.209257e-15\n",
      "10  1.422016e-08  7.753254e-15\n",
      "11 -3.229950e-16  7.633331e-15\n"
     ]
    }
   ],
   "source": [
    "dataframe = calc.results_dataframe(c_epl, error_epl, orders)\n",
    "\n",
    "print(dataframe)"
   ]
  },
  {
   "cell_type": "markdown",
   "id": "6f1e5a2c",
   "metadata": {},
   "source": [
    "... or as a handy LaTeX table."
   ]
  },
  {
   "cell_type": "code",
   "execution_count": 8,
   "id": "a4ecb54c",
   "metadata": {},
   "outputs": [
    {
     "name": "stdout",
     "output_type": "stream",
     "text": [
      "\\begin{tabular}{rrr}\n",
      "\\toprule\n",
      "Order & $c_n$ & Error \\\\\n",
      "\\midrule\n",
      "0 & 1.07e+00 & 1.19e-09 \\\\\n",
      "1 & -5.50e-17 & 7.63e-15 \\\\\n",
      "2 & 2.38e-02 & 7.52e-15 \\\\\n",
      "3 & -1.23e-17 & 7.41e-15 \\\\\n",
      "4 & -3.17e-04 & 7.62e-15 \\\\\n",
      "5 & -1.93e-16 & 7.35e-15 \\\\\n",
      "6 & 9.05e-06 & 7.53e-13 \\\\\n",
      "7 & -2.35e-16 & 6.79e-15 \\\\\n",
      "8 & -3.35e-07 & 1.41e-09 \\\\\n",
      "9 & 1.52e-16 & 7.21e-15 \\\\\n",
      "10 & 1.42e-08 & 7.75e-15 \\\\\n",
      "11 & -3.23e-16 & 7.63e-15 \\\\\n",
      "\\bottomrule\n",
      "\\end{tabular}\n",
      "\n"
     ]
    }
   ],
   "source": [
    "latex = calc.results_dataframe(c_epl, error_epl, orders, to_latex=True)\n",
    "\n",
    "print(latex)"
   ]
  },
  {
   "cell_type": "markdown",
   "id": "1aa32a52",
   "metadata": {},
   "source": [
    "And lastly, with the Plot class you can plot the coefficients you calculated:"
   ]
  },
  {
   "cell_type": "code",
   "execution_count": 9,
   "id": "12446db2",
   "metadata": {},
   "outputs": [],
   "source": [
    "from compote.plots.plots import Plot\n",
    "\n",
    "plt = Plot()"
   ]
  },
  {
   "cell_type": "code",
   "execution_count": 10,
   "id": "2ee85618",
   "metadata": {},
   "outputs": [
    {
     "data": {
      "image/png": "[encoded data removed]",
      "text/plain": [
       "<Figure size 800x400 with 1 Axes>"
      ]
     },
     "metadata": {},
     "output_type": "display_data"
    }
   ],
   "source": [
    "plot_kwargs = {'color': 'crimson', 'ls': ' ', 'marker': 'o', 'label': 'EPL'}\n",
    "\n",
    "plt.coefficient_plot(c_epl, orders, plot_kwargs,  title='my amazing compote plot')"
   ]
  }
 ],
 "metadata": {
  "kernelspec": {
   "display_name": "Python 3 (ipykernel)",
   "language": "python",
   "name": "python3"
  },
  "language_info": {
   "codemirror_mode": {
    "name": "ipython",
    "version": 3
   },
   "file_extension": ".py",
   "mimetype": "text/x-python",
   "name": "python",
   "nbconvert_exporter": "python",
   "pygments_lexer": "ipython3",
   "version": "3.11.5"
  }
 },
 "nbformat": 4,
 "nbformat_minor": 5
}
