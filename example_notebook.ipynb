{
 "cells": [
  {
   "cell_type": "markdown",
   "id": "ea87c258",
   "metadata": {},
   "source": [
    "# 🍓 `compote` (Coefficients Of Multipoles of lensing POTEntials)\n",
    "\n",
    "Author: Natalie B. Hogg\n",
    "\n",
    "## Introduction\n",
    "\n",
    "The `compote` package computes coefficients of the multipole expansion of a given lensing potential. This notebook demonstrates its use. Currently `compote` contains the singular isothermal ellipse (SIE) of [Kormann et al. 1993](https://articles.adsabs.harvard.edu/pdf/1994A%26A...284..285K), the elliptical power law (EPL) of [Tessore and Metcalf 2015](https://arxiv.org/pdf/1507.01819.pdf), and the boxy/disky potentials of [van de Vyvere et al. 2021](https://arxiv.org/abs/2112.03932). The singular isothermal sphere (SIS) can be obtained by setting the axis ratio $f$ of the SIE profile close to 1."
   ]
  },
  {
   "cell_type": "markdown",
   "id": "62f7de86",
   "metadata": {},
   "source": [
    "## Getting started"
   ]
  },
  {
   "cell_type": "markdown",
   "id": "dae36342",
   "metadata": {},
   "source": [
    "First import the potential from `compote` whose multipoles you wish to compute:"
   ]
  },
  {
   "cell_type": "code",
   "execution_count": 1,
   "id": "e78803b0",
   "metadata": {},
   "outputs": [],
   "source": [
    "from compote.potentials.epl import EPL"
   ]
  },
  {
   "cell_type": "markdown",
   "id": "72b10599",
   "metadata": {},
   "source": [
    "Before getting the multipole coefficients, you can calculate the value of the potential for a given value of the angular coordinate $\\varphi$ (thanks to the separation of angular and radial coordinates in the definitions of both the SIE and EPL potentials, the result will simply scale with the choice of radial coordinate $\\theta$):"
   ]
  },
  {
   "cell_type": "code",
   "execution_count": 2,
   "id": "edbf8f06",
   "metadata": {},
   "outputs": [],
   "source": [
    "epl_fixed_phi = EPL() # get an instance of the EPL class"
   ]
  },
  {
   "cell_type": "markdown",
   "id": "2b09c814",
   "metadata": {},
   "source": [
    "Choose some values for the parameters:"
   ]
  },
  {
   "cell_type": "code",
   "execution_count": 3,
   "id": "ee5d10d9",
   "metadata": {},
   "outputs": [],
   "source": [
    "phi = 0.5 # angular coordinate\n",
    "theta = 1   # radial coordinate; result will simply scale with this"
   ]
  },
  {
   "cell_type": "code",
   "execution_count": 4,
   "id": "0d7a21b3",
   "metadata": {},
   "outputs": [],
   "source": [
    "f = 7/8     # axis ratio of ellipse\n",
    "theta_E = 1 # Einstein radius\n",
    "gamma = 2   # slope of the power law"
   ]
  },
  {
   "cell_type": "markdown",
   "id": "2d9a3c7e",
   "metadata": {},
   "source": [
    "And get the value of the potential:"
   ]
  },
  {
   "cell_type": "code",
   "execution_count": 5,
   "id": "71ca7c7c",
   "metadata": {},
   "outputs": [
    {
     "name": "stdout",
     "output_type": "stream",
     "text": [
      "(1.0109740712415611+0j)\n"
     ]
    }
   ],
   "source": [
    "potential = epl_fixed_phi.potential(phi, theta, f, theta_E, gamma)\n",
    "\n",
    "print(potential)"
   ]
  },
  {
   "cell_type": "markdown",
   "id": "3f7d66b3",
   "metadata": {},
   "source": [
    "## Calculation\n",
    "\n",
    "To calculate the multipole coefficients of a potential, import and initialise the Calculate class:"
   ]
  },
  {
   "cell_type": "code",
   "execution_count": 6,
   "id": "25b02664",
   "metadata": {},
   "outputs": [],
   "source": [
    "from compote.calculate.calculate import Calculate\n",
    "\n",
    "calc = Calculate()"
   ]
  },
  {
   "cell_type": "markdown",
   "id": "ea3f9b76",
   "metadata": {},
   "source": [
    "Make a new instance of the potential's class:"
   ]
  },
  {
   "cell_type": "code",
   "execution_count": 7,
   "id": "0d6c5022",
   "metadata": {},
   "outputs": [],
   "source": [
    "epl = EPL()"
   ]
  },
  {
   "cell_type": "markdown",
   "id": "67b13c31",
   "metadata": {},
   "source": [
    "Choose some values for the parameters:"
   ]
  },
  {
   "cell_type": "code",
   "execution_count": 8,
   "id": "c95fa478",
   "metadata": {},
   "outputs": [],
   "source": [
    "f = 1/8     \n",
    "theta_E = 1.4\n",
    "gamma = 2.3"
   ]
  },
  {
   "cell_type": "markdown",
   "id": "a43c95d4",
   "metadata": {},
   "source": [
    "Choose the number of orders to compute (only even orders can be obtained via e.g. `orders = range(0, 12, 2)`):"
   ]
  },
  {
   "cell_type": "code",
   "execution_count": 9,
   "id": "88975bcf",
   "metadata": {},
   "outputs": [],
   "source": [
    "orders = range(0, 12)"
   ]
  },
  {
   "cell_type": "markdown",
   "id": "0a947b47",
   "metadata": {},
   "source": [
    "And get the result:"
   ]
  },
  {
   "cell_type": "code",
   "execution_count": 10,
   "id": "fc7a40bb",
   "metadata": {},
   "outputs": [
    {
     "name": "stderr",
     "output_type": "stream",
     "text": [
      "/home/nataliehogg/anaconda3/lib/python3.11/site-packages/scipy/integrate/_quadpack_py.py:577: ComplexWarning: Casting complex values to real discards the imaginary part\n",
      "  return _quadpack._qagse(func,a,b,args,full_output,epsabs,epsrel,limit)\n"
     ]
    }
   ],
   "source": [
    "c_epl, error_epl = calc.coefficients(epl.potential, orders, theta, f, theta_E, gamma)"
   ]
  },
  {
   "cell_type": "markdown",
   "id": "633b41ec",
   "metadata": {},
   "source": [
    "## Results\n",
    "\n",
    "You can display the results as a dataframe..."
   ]
  },
  {
   "cell_type": "code",
   "execution_count": 11,
   "id": "0d0464a7",
   "metadata": {},
   "outputs": [
    {
     "name": "stdout",
     "output_type": "stream",
     "text": [
      "             c_n         error\n",
      "0   1.771483e+00  3.138394e-10\n",
      "1  -6.663892e-17  1.314629e-14\n",
      "2   1.378917e-01  1.842236e-10\n",
      "3  -7.060874e-18  1.229814e-14\n",
      "4  -2.075184e-02  1.468960e-10\n",
      "5  -3.388410e-16  1.229814e-14\n",
      "6   6.347818e-03  2.291326e-10\n",
      "7  -3.684000e-16  1.130864e-14\n",
      "8  -2.549697e-03  3.450077e-10\n",
      "9   2.781886e-16  1.187407e-14\n",
      "10  1.187024e-03  5.709542e-10\n",
      "11 -5.037472e-16  1.272222e-14\n"
     ]
    }
   ],
   "source": [
    "dataframe = calc.results_dataframe(c_epl, error_epl, orders)\n",
    "\n",
    "print(dataframe)"
   ]
  },
  {
   "cell_type": "markdown",
   "id": "6f1e5a2c",
   "metadata": {},
   "source": [
    "... or as a handy LaTeX table."
   ]
  },
  {
   "cell_type": "code",
   "execution_count": 12,
   "id": "a4ecb54c",
   "metadata": {},
   "outputs": [
    {
     "name": "stdout",
     "output_type": "stream",
     "text": [
      "\\begin{tabular}{rrr}\n",
      "\\toprule\n",
      "Order & $c_n$ & Error \\\\\n",
      "\\midrule\n",
      "0 & 1.77e+00 & 3.14e-10 \\\\\n",
      "1 & -6.66e-17 & 1.31e-14 \\\\\n",
      "2 & 1.38e-01 & 1.84e-10 \\\\\n",
      "3 & -7.06e-18 & 1.23e-14 \\\\\n",
      "4 & -2.08e-02 & 1.47e-10 \\\\\n",
      "5 & -3.39e-16 & 1.23e-14 \\\\\n",
      "6 & 6.35e-03 & 2.29e-10 \\\\\n",
      "7 & -3.68e-16 & 1.13e-14 \\\\\n",
      "8 & -2.55e-03 & 3.45e-10 \\\\\n",
      "9 & 2.78e-16 & 1.19e-14 \\\\\n",
      "10 & 1.19e-03 & 5.71e-10 \\\\\n",
      "11 & -5.04e-16 & 1.27e-14 \\\\\n",
      "\\bottomrule\n",
      "\\end{tabular}\n",
      "\n"
     ]
    }
   ],
   "source": [
    "latex = calc.results_dataframe(c_epl, error_epl, orders, to_latex=True)\n",
    "\n",
    "print(latex)"
   ]
  },
  {
   "cell_type": "markdown",
   "id": "3a20669a",
   "metadata": {},
   "source": [
    "## Multiple potentials\n",
    "\n",
    "You can obtain the coefficients of the sums of potentials simply by summing the coefficiants of the individual potentials:"
   ]
  },
  {
   "cell_type": "code",
   "execution_count": 13,
   "id": "c7dc2e02",
   "metadata": {},
   "outputs": [
    {
     "name": "stderr",
     "output_type": "stream",
     "text": [
      "/home/nataliehogg/anaconda3/lib/python3.11/site-packages/scipy/integrate/_quadpack_py.py:577: ComplexWarning: Casting complex values to real discards the imaginary part\n",
      "  return _quadpack._qagse(func,a,b,args,full_output,epsabs,epsrel,limit)\n"
     ]
    }
   ],
   "source": [
    "from compote.potentials.boxydisky import Boxy\n",
    "\n",
    "boxy = Boxy()\n",
    "\n",
    "a_4 = 0.01\n",
    "\n",
    "c_boxy, error_boxy = calc.coefficients(boxy.potential, orders, theta, a_4)"
   ]
  },
  {
   "cell_type": "code",
   "execution_count": 14,
   "id": "9275fde8",
   "metadata": {},
   "outputs": [],
   "source": [
    "c_sum = c_epl + c_boxy"
   ]
  },
  {
   "cell_type": "markdown",
   "id": "1aa32a52",
   "metadata": {},
   "source": [
    "## Plots\n",
    "\n",
    "And lastly, with the Plot class you can plot the coefficients you calculated:"
   ]
  },
  {
   "cell_type": "code",
   "execution_count": 15,
   "id": "12446db2",
   "metadata": {},
   "outputs": [],
   "source": [
    "from compote.plots.plots import Plot\n",
    "\n",
    "plt = Plot()"
   ]
  },
  {
   "cell_type": "code",
   "execution_count": 16,
   "id": "2ee85618",
   "metadata": {},
   "outputs": [
    {
     "data": {
      "image/png": "[encoded data removed]",
      "text/plain": [
       "<Figure size 800x400 with 1 Axes>"
      ]
     },
     "metadata": {},
     "output_type": "display_data"
    }
   ],
   "source": [
    "plot_kwargs = {'color': 'crimson', 'ls': ' ', 'marker': 'o', 'label': 'EPL'}\n",
    "\n",
    "plt.coefficient_plot(c_epl, orders, plot_kwargs, title='my amazing compote plot')"
   ]
  },
  {
   "cell_type": "code",
   "execution_count": 17,
   "id": "bc7e76b9",
   "metadata": {},
   "outputs": [
    {
     "data": {
      "image/png": "[encoded data removed]",
      "text/plain": [
       "<Figure size 1200x700 with 2 Axes>"
      ]
     },
     "metadata": {},
     "output_type": "display_data"
    }
   ],
   "source": [
    "epl_kwargs = {'color': 'crimson', 'ls': ' ', 'marker': 'o', 'label': 'EPL'}\n",
    "epl_boxy_kwargs = {'color': 'navy', 'ls': ' ', 'marker': 's', 'label': 'Boxy EPL'}\n",
    "difference_kwargs = {'color': 'black', 'ls': ' ', 'marker': '+'}\n",
    "\n",
    "plt.difference_plot(c_epl, c_sum, orders, epl_kwargs, epl_boxy_kwargs, difference_kwargs)"
   ]
  }
 ],
 "metadata": {
  "kernelspec": {
   "display_name": "Python 3 (ipykernel)",
   "language": "python",
   "name": "python3"
  },
  "language_info": {
   "codemirror_mode": {
    "name": "ipython",
    "version": 3
   },
   "file_extension": ".py",
   "mimetype": "text/x-python",
   "name": "python",
   "nbconvert_exporter": "python",
   "pygments_lexer": "ipython3",
   "version": "3.11.5"
  }
 },
 "nbformat": 4,
 "nbformat_minor": 5
}
