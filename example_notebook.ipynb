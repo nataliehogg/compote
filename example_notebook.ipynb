{
 "cells": [
  {
   "cell_type": "markdown",
   "id": "ea87c258",
   "metadata": {},
   "source": [
    "# 🍓 `compote` (Coefficients Of Multipoles of lensing POTEntials)\n",
    "\n",
    "Author: Natalie B. Hogg\n",
    "\n",
    "## Introduction\n",
    "\n",
    "The `compote` package computes coefficients of the multipole expansion of a given lensing potential. This notebook demonstrates its use. Currently `compote` contains the singular isothermal ellipse (SIE) of [Kormann et al. 1993](https://articles.adsabs.harvard.edu/pdf/1994A%26A...284..285K), and the elliptical power law (EPL) of [Tessore and Metcalf 2015](https://arxiv.org/pdf/1507.01819.pdf). The singular isothermal sphere (SIS) can be obtained by setting the axis ratio $f$ of the SIE profile close to 1."
   ]
  },
  {
   "cell_type": "markdown",
   "id": "dae36342",
   "metadata": {},
   "source": [
    "## Usage\n",
    "First import the potential from `compote` whose multipoles you wish to compute:"
   ]
  },
  {
   "cell_type": "code",
   "execution_count": 1,
   "id": "e78803b0",
   "metadata": {},
   "outputs": [],
   "source": [
    "from compote.potentials.epl import EPL"
   ]
  },
  {
   "cell_type": "markdown",
   "id": "72b10599",
   "metadata": {},
   "source": [
    "Before getting the multipole coefficients, you can calculate the value of the potential for a given value of the angular coordinate $\\varphi$ (thanks to the separation of angular and radial coordinates in the definitions of both the SIE and EPL potentials, the result will simply scale with the choice of radial coordinate $\\theta$):"
   ]
  },
  {
   "cell_type": "code",
   "execution_count": 2,
   "id": "edbf8f06",
   "metadata": {},
   "outputs": [],
   "source": [
    "epl_fixed_phi = EPL() # get an instance of the EPL class"
   ]
  },
  {
   "cell_type": "markdown",
   "id": "2b09c814",
   "metadata": {},
   "source": [
    "Choose some values for the parameters:"
   ]
  },
  {
   "cell_type": "code",
   "execution_count": 3,
   "id": "0d7a21b3",
   "metadata": {},
   "outputs": [],
   "source": [
    "phi = 0.5 # angular coordinate\n",
    "theta = 1   # radial coordinate; result will simply scale with this\n",
    "\n",
    "f = 7/8     # axis ratio of ellipse\n",
    "theta_E = 1 # Einstein radius\n",
    "gamma = 2   # slope of the power law"
   ]
  },
  {
   "cell_type": "markdown",
   "id": "2d9a3c7e",
   "metadata": {},
   "source": [
    "And get the value of the potential:"
   ]
  },
  {
   "cell_type": "code",
   "execution_count": 4,
   "id": "71ca7c7c",
   "metadata": {},
   "outputs": [
    {
     "name": "stdout",
     "output_type": "stream",
     "text": [
      "(1.0109740712415611+0j)\n"
     ]
    }
   ],
   "source": [
    "potential = epl_fixed_phi.potential(phi, theta, f, theta_E, gamma)\n",
    "\n",
    "print(potential)"
   ]
  },
  {
   "cell_type": "markdown",
   "id": "3f7d66b3",
   "metadata": {},
   "source": [
    "## Calculation\n",
    "\n",
    "To calculate the multipole coefficients of a potential, import and initialise the Calculate class:"
   ]
  },
  {
   "cell_type": "code",
   "execution_count": 5,
   "id": "25b02664",
   "metadata": {},
   "outputs": [],
   "source": [
    "from compote.calculate.calculate import Calculate\n",
    "\n",
    "calc = Calculate()"
   ]
  },
  {
   "cell_type": "markdown",
   "id": "ea3f9b76",
   "metadata": {},
   "source": [
    "Make a new instance of the potential's class:"
   ]
  },
  {
   "cell_type": "code",
   "execution_count": 6,
   "id": "0d6c5022",
   "metadata": {},
   "outputs": [],
   "source": [
    "epl = EPL()"
   ]
  },
  {
   "cell_type": "markdown",
   "id": "67b13c31",
   "metadata": {},
   "source": [
    "Choose some values for the parameters:"
   ]
  },
  {
   "cell_type": "code",
   "execution_count": 7,
   "id": "c95fa478",
   "metadata": {},
   "outputs": [],
   "source": [
    "theta = 1  \n",
    "f = 5/7     \n",
    "theta_E = 1.2\n",
    "gamma = 2.3"
   ]
  },
  {
   "cell_type": "markdown",
   "id": "a43c95d4",
   "metadata": {},
   "source": [
    "Choose the number of orders to compute (only even orders can be obtained via e.g. `orders = range(0, 12, 2)`):"
   ]
  },
  {
   "cell_type": "code",
   "execution_count": 8,
   "id": "88975bcf",
   "metadata": {},
   "outputs": [],
   "source": [
    "orders = range(0, 12)"
   ]
  },
  {
   "cell_type": "markdown",
   "id": "0a947b47",
   "metadata": {},
   "source": [
    "And get the result:"
   ]
  },
  {
   "cell_type": "code",
   "execution_count": 9,
   "id": "fc7a40bb",
   "metadata": {},
   "outputs": [
    {
     "name": "stderr",
     "output_type": "stream",
     "text": [
      "/home/nataliehogg/anaconda3/lib/python3.11/site-packages/scipy/integrate/_quadpack_py.py:577: ComplexWarning: Casting complex values to real discards the imaginary part\n",
      "  return _quadpack._qagse(func,a,b,args,full_output,epsabs,epsrel,limit)\n"
     ]
    }
   ],
   "source": [
    "c_epl, error_epl = calc.coefficients(epl.potential, orders, theta, f, theta_E, gamma)"
   ]
  },
  {
   "cell_type": "markdown",
   "id": "633b41ec",
   "metadata": {},
   "source": [
    "## Results\n",
    "\n",
    "You can display the results as a dataframe..."
   ]
  },
  {
   "cell_type": "code",
   "execution_count": 10,
   "id": "0d0464a7",
   "metadata": {},
   "outputs": [
    {
     "name": "stdout",
     "output_type": "stream",
     "text": [
      "             c_n         error\n",
      "0   1.799077e+00  1.997375e-14\n",
      "1  -1.141020e-16  1.278846e-14\n",
      "2   2.729541e-02  1.265306e-14\n",
      "3  -3.020041e-17  1.247374e-14\n",
      "4  -8.502607e-04  1.278536e-14\n",
      "5  -2.903720e-16  1.243950e-14\n",
      "6   5.470403e-05  2.759277e-13\n",
      "7  -4.176245e-16  1.130864e-14\n",
      "8  -4.653175e-06  2.183068e-09\n",
      "9   2.643102e-16  1.215679e-14\n",
      "10  4.604154e-07  1.257139e-14\n",
      "11 -5.094038e-16  1.286358e-14\n"
     ]
    }
   ],
   "source": [
    "dataframe = calc.results_dataframe(c_epl, error_epl, orders)\n",
    "\n",
    "print(dataframe)"
   ]
  },
  {
   "cell_type": "markdown",
   "id": "6f1e5a2c",
   "metadata": {},
   "source": [
    "... or as a handy LaTeX table."
   ]
  },
  {
   "cell_type": "code",
   "execution_count": 11,
   "id": "a4ecb54c",
   "metadata": {},
   "outputs": [
    {
     "name": "stdout",
     "output_type": "stream",
     "text": [
      "\\begin{tabular}{rrr}\n",
      "\\toprule\n",
      "Order & $c_n$ & Error \\\\\n",
      "\\midrule\n",
      "0 & 1.80e+00 & 2.00e-14 \\\\\n",
      "1 & -1.14e-16 & 1.28e-14 \\\\\n",
      "2 & 2.73e-02 & 1.27e-14 \\\\\n",
      "3 & -3.02e-17 & 1.25e-14 \\\\\n",
      "4 & -8.50e-04 & 1.28e-14 \\\\\n",
      "5 & -2.90e-16 & 1.24e-14 \\\\\n",
      "6 & 5.47e-05 & 2.76e-13 \\\\\n",
      "7 & -4.18e-16 & 1.13e-14 \\\\\n",
      "8 & -4.65e-06 & 2.18e-09 \\\\\n",
      "9 & 2.64e-16 & 1.22e-14 \\\\\n",
      "10 & 4.60e-07 & 1.26e-14 \\\\\n",
      "11 & -5.09e-16 & 1.29e-14 \\\\\n",
      "\\bottomrule\n",
      "\\end{tabular}\n",
      "\n"
     ]
    }
   ],
   "source": [
    "latex = calc.results_dataframe(c_epl, error_epl, orders, to_latex=True)\n",
    "\n",
    "print(latex)"
   ]
  },
  {
   "cell_type": "markdown",
   "id": "1aa32a52",
   "metadata": {},
   "source": [
    "## Plots\n",
    "\n",
    "And lastly, with the Plot class you can plot the coefficients you calculated:"
   ]
  },
  {
   "cell_type": "code",
   "execution_count": 12,
   "id": "12446db2",
   "metadata": {},
   "outputs": [],
   "source": [
    "from compote.plots.plots import Plot\n",
    "\n",
    "plt = Plot()"
   ]
  },
  {
   "cell_type": "code",
   "execution_count": 13,
   "id": "2ee85618",
   "metadata": {},
   "outputs": [
    {
     "data": {
      "image/png": "[encoded data removed]",
      "text/plain": [
       "<Figure size 800x400 with 1 Axes>"
      ]
     },
     "metadata": {},
     "output_type": "display_data"
    }
   ],
   "source": [
    "plot_kwargs = {'color': 'crimson', 'ls': ' ', 'marker': 'o', 'label': 'EPL'}\n",
    "\n",
    "plt.coefficient_plot(c_epl, orders, plot_kwargs,  title='my amazing compote plot')"
   ]
  }
 ],
 "metadata": {
  "kernelspec": {
   "display_name": "Python 3 (ipykernel)",
   "language": "python",
   "name": "python3"
  },
  "language_info": {
   "codemirror_mode": {
    "name": "ipython",
    "version": 3
   },
   "file_extension": ".py",
   "mimetype": "text/x-python",
   "name": "python",
   "nbconvert_exporter": "python",
   "pygments_lexer": "ipython3",
   "version": "3.11.5"
  }
 },
 "nbformat": 4,
 "nbformat_minor": 5
}
